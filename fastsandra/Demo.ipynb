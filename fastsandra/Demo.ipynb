{
 "cells": [
  {
   "cell_type": "code",
   "execution_count": null,
   "metadata": {},
   "outputs": [],
   "source": [
    "import sys\n",
    "from collections import namedtuple\n",
    "\n",
    "import pandas as pd\n",
    "import numpy as np\n",
    "from pympler import asizeof\n",
    "\n",
    "from cassandra import ConsistencyLevel\n",
    "from cassandra.cluster import Cluster\n",
    "from cassandra.query import BatchStatement\n",
    "from cassandra.protocol import NumpyProtocolHandler, LazyProtocolHandler\n",
    "from cassandra.query import tuple_factory\n",
    "from cassandra.util import Date\n",
    "import cassandra.cqltypes"
   ]
  },
  {
   "cell_type": "code",
   "execution_count": null,
   "metadata": {},
   "outputs": [],
   "source": [
    "cluster = Cluster()"
   ]
  },
  {
   "cell_type": "code",
   "execution_count": null,
   "metadata": {},
   "outputs": [],
   "source": [
    "def size_of_fmt(num, suffix='B'):\n",
    "    for unit in ['','K','M','G','T','P','E','Z']:\n",
    "        if abs(num) < 1024.0:\n",
    "            return \"%3.1f%s%s\" % (num, unit, suffix)\n",
    "        num /= 1024.0\n",
    "    return \"%.1f%s%s\" % (num, 'Yi', suffix)\n",
    "\n",
    "def size_of(obj):\n",
    "    if isinstance(obj, pd.DataFrame):\n",
    "        return size_of_fmt(obj.memory_usage(deep=True).sum())\n",
    "    return size_of_fmt(asizeof.asizeof(obj))"
   ]
  },
  {
   "cell_type": "code",
   "execution_count": null,
   "metadata": {},
   "outputs": [],
   "source": [
    "size_of('HELLO'), size_of('HELLO HELLO')"
   ]
  },
  {
   "cell_type": "markdown",
   "metadata": {},
   "source": [
    "# Table schema\n",
    "\n",
    "```cassandraql\n",
    "CREATE TABLE fastsandra.time_series ( \n",
    "  event_date         date,       # Partition key\n",
    "  instrument_id      int,\n",
    "  event_timestamp    timestamp,\n",
    "  value              double,\n",
    "  PRIMARY KEY (event_date, instrument_id, event_timestamp)\n",
    ");\n",
    "\n",
    "```"
   ]
  },
  {
   "cell_type": "markdown",
   "metadata": {},
   "source": [
    "# Default Protocol Handler"
   ]
  },
  {
   "cell_type": "code",
   "execution_count": null,
   "metadata": {},
   "outputs": [],
   "source": [
    "with cluster.connect('fastsandra') as session:\n",
    "    results = session.execute(\n",
    "        \"SELECT * from fastsandra.time_series where event_date = '2019-10-01'\"\n",
    "    )\n",
    "    rows = [r for r in results]\n",
    "len(rows)"
   ]
  },
  {
   "cell_type": "code",
   "execution_count": null,
   "metadata": {},
   "outputs": [],
   "source": [
    "row = rows[0]\n",
    "row"
   ]
  },
  {
   "cell_type": "code",
   "execution_count": null,
   "metadata": {},
   "outputs": [],
   "source": [
    "row.event_date, row.instrument_id, row.event_timestamp, row.value"
   ]
  },
  {
   "cell_type": "code",
   "execution_count": null,
   "metadata": {},
   "outputs": [],
   "source": [
    "type(row)"
   ]
  },
  {
   "cell_type": "code",
   "execution_count": null,
   "metadata": {},
   "outputs": [],
   "source": [
    "isinstance(row, tuple)"
   ]
  },
  {
   "cell_type": "code",
   "execution_count": null,
   "metadata": {},
   "outputs": [],
   "source": [
    "size_of(rows)"
   ]
  },
  {
   "cell_type": "code",
   "execution_count": null,
   "metadata": {},
   "outputs": [],
   "source": [
    "size_of(row)"
   ]
  },
  {
   "cell_type": "code",
   "execution_count": null,
   "metadata": {},
   "outputs": [],
   "source": [
    "pd.DataFrame([\n",
    "    {'column': name, 'type': type(value), 'value': value, 'size': size_of(value)}\n",
    "    for name, value in row._asdict().items()\n",
    "]).set_index('column')"
   ]
  },
  {
   "cell_type": "code",
   "execution_count": null,
   "metadata": {},
   "outputs": [],
   "source": [
    "df = pd.DataFrame(rows)\n",
    "df.head()"
   ]
  },
  {
   "cell_type": "code",
   "execution_count": null,
   "metadata": {},
   "outputs": [],
   "source": [
    "size_of(df)"
   ]
  },
  {
   "cell_type": "code",
   "execution_count": null,
   "metadata": {},
   "outputs": [],
   "source": [
    "(\n",
    "    df\n",
    "    .dtypes\n",
    "    .rename('pandas')\n",
    "    .to_frame()\n",
    "    .join(\n",
    "        pd.Series(dict(zip(results.column_names, results.column_types)))\n",
    "        .apply(lambda x: x.typename)\n",
    "        .rename('cassandra')\n",
    "    )\n",
    ")[['cassandra', 'pandas']]"
   ]
  },
  {
   "cell_type": "code",
   "execution_count": null,
   "metadata": {},
   "outputs": [],
   "source": [
    "type(df['event_date'][0]), df['event_date'][0]"
   ]
  },
  {
   "cell_type": "code",
   "execution_count": null,
   "metadata": {},
   "outputs": [],
   "source": [
    "df_clean = df.assign(\n",
    "    event_date=lambda x : x['event_date'].apply(Date.date).astype('datetime64[ns]'),\n",
    "    instrument_id=lambda x : x['instrument_id'].astype('int32') \n",
    ")\n",
    "df_clean.dtypes"
   ]
  },
  {
   "cell_type": "code",
   "execution_count": null,
   "metadata": {},
   "outputs": [],
   "source": [
    "size_of(df_clean)"
   ]
  },
  {
   "cell_type": "code",
   "execution_count": null,
   "metadata": {},
   "outputs": [],
   "source": [
    "size_of_fmt(len(df_clean) * (8 + 4 + 8 + 8))"
   ]
  },
  {
   "cell_type": "markdown",
   "metadata": {},
   "source": [
    "# Using `NumpyProtocolHandler`\n",
    "\n",
    "\n",
    "## Installation\n",
    "\n",
    "\n",
    "```bash\n",
    "# First make sure you have the correct library installed on your system:\n",
    "sudo apt install python3.7-dev libev4 libev-dev build-essential\n",
    "# Activate your virtual environment and first install Cython and numpy\n",
    "pip install Cython==0.29.14\n",
    "pip install numpy==0.17.2\n",
    "# Then install the cassandra-driver (this should take a few minutes)\n",
    "pip install cassandra-driver\n",
    "# Check that it worked:\n",
    "python -c 'from cassandra.protocol import NumpyProtocolHandler;print(NumpyProtocolHandler)'\n",
    "# Should print:\n",
    "# <class 'cassandra.protocol.cython_protocol_handler.<locals>.CythonProtocolHandler'>\n",
    "# If it doesn't print anything, it didn't work\n",
    "```\n",
    "If it doesn't work:\n",
    "```bash\n",
    "pip -v --no-cache-dir install cassandra-driver\n",
    "```\n",
    "\n",
    "## Usage"
   ]
  },
  {
   "cell_type": "code",
   "execution_count": null,
   "metadata": {},
   "outputs": [],
   "source": [
    "with cluster.connect('fastsandra') as session:\n",
    "    ########## PREPARE SESSION FOR NUMPY HANDLER ###########\n",
    "    session.row_factory = tuple_factory                    #\n",
    "    session.client_protocol_handler = NumpyProtocolHandler #\n",
    "    ########################################################\n",
    "    results = session.execute(\n",
    "        \"SELECT * from fastsandra.time_series where event_date = '2019-10-01'\"\n",
    "    )\n",
    "    np_batches = [b for b in results]\n",
    "len(np_batches)"
   ]
  },
  {
   "cell_type": "code",
   "execution_count": null,
   "metadata": {},
   "outputs": [],
   "source": [
    "np_batch = np_batches[0]\n",
    "type(np_batch), np_batch.keys()"
   ]
  },
  {
   "cell_type": "code",
   "execution_count": null,
   "metadata": {},
   "outputs": [],
   "source": [
    "np_batch['instrument_id']"
   ]
  },
  {
   "cell_type": "code",
   "execution_count": null,
   "metadata": {},
   "outputs": [],
   "source": [
    "np_batch['value'], np_batch['value'].dtype"
   ]
  },
  {
   "cell_type": "code",
   "execution_count": null,
   "metadata": {},
   "outputs": [],
   "source": [
    "np_batch['event_date'] "
   ]
  },
  {
   "cell_type": "code",
   "execution_count": null,
   "metadata": {},
   "outputs": [],
   "source": [
    "np_batch['event_timestamp']"
   ]
  },
  {
   "cell_type": "code",
   "execution_count": null,
   "metadata": {},
   "outputs": [],
   "source": [
    "pd.DataFrame([{'column': k, 'numpy type': v.dtype, 'python type': type(v[0])} for k,v in np_batch.items()]).set_index('column')"
   ]
  },
  {
   "cell_type": "code",
   "execution_count": null,
   "metadata": {},
   "outputs": [],
   "source": [
    "np_df = pd.concat([pd.DataFrame(b) for b in np_batches], ignore_index=True)\n",
    "np_df.head()"
   ]
  },
  {
   "cell_type": "code",
   "execution_count": null,
   "metadata": {},
   "outputs": [],
   "source": [
    "np_df.dtypes"
   ]
  },
  {
   "cell_type": "code",
   "execution_count": null,
   "metadata": {},
   "outputs": [],
   "source": [
    "size_of(np_df)"
   ]
  },
  {
   "cell_type": "code",
   "execution_count": null,
   "metadata": {},
   "outputs": [],
   "source": [
    "np_df_clean = np_df.assign(\n",
    "    event_date=lambda x: x['event_date'].apply(Date.date).astype('datetime64[D]')\n",
    ")"
   ]
  },
  {
   "cell_type": "code",
   "execution_count": null,
   "metadata": {},
   "outputs": [],
   "source": [
    "np_df_clean.dtypes"
   ]
  },
  {
   "cell_type": "code",
   "execution_count": null,
   "metadata": {},
   "outputs": [],
   "source": [
    "size_of(np_df_clean)"
   ]
  },
  {
   "cell_type": "code",
   "execution_count": null,
   "metadata": {},
   "outputs": [],
   "source": [
    "np_batch['event_date'].dtype, np_batch['event_timestamp'].dtype"
   ]
  },
  {
   "cell_type": "markdown",
   "metadata": {},
   "source": [
    "# Tuning `NumpyProtocolHandler`\n",
    "\n",
    "## Tuning Timestamps"
   ]
  },
  {
   "cell_type": "code",
   "execution_count": null,
   "metadata": {},
   "outputs": [],
   "source": [
    "import cassandra.numpy_parser as numpy_parser"
   ]
  },
  {
   "cell_type": "code",
   "execution_count": null,
   "metadata": {},
   "outputs": [],
   "source": [
    "numpy_parser._cqltype_to_numpy"
   ]
  },
  {
   "cell_type": "code",
   "execution_count": null,
   "metadata": {},
   "outputs": [],
   "source": [
    "cqltype_to_numpy_copy = numpy_parser._cqltype_to_numpy.copy()"
   ]
  },
  {
   "cell_type": "code",
   "execution_count": null,
   "metadata": {},
   "outputs": [],
   "source": [
    "numpy_parser._cqltype_to_numpy.update({\n",
    "    cassandra.cqltypes.DateType: np.dtype('datetime64[ms]'),\n",
    "    cassandra.cqltypes.TimestampType: np.dtype('datetime64[ms]'),\n",
    "})\n",
    "numpy_parser._cqltype_to_numpy"
   ]
  },
  {
   "cell_type": "code",
   "execution_count": null,
   "metadata": {},
   "outputs": [],
   "source": [
    "with cluster.connect('fastsandra') as session:\n",
    "    session.row_factory = tuple_factory\n",
    "    session.client_protocol_handler = NumpyProtocolHandler\n",
    "    results = session.execute(\n",
    "        \"SELECT * from fastsandra.time_series where event_date = '2019-10-01'\"\n",
    "    )\n",
    "    fnp_batches = [b for b in results]"
   ]
  },
  {
   "cell_type": "code",
   "execution_count": null,
   "metadata": {},
   "outputs": [],
   "source": [
    "fnp_batch = fnp_batches[0]\n",
    "fnp_batch['event_timestamp'].dtype"
   ]
  },
  {
   "cell_type": "code",
   "execution_count": null,
   "metadata": {},
   "outputs": [],
   "source": [
    "np_batch['event_timestamp'].dtype"
   ]
  },
  {
   "cell_type": "code",
   "execution_count": null,
   "metadata": {},
   "outputs": [],
   "source": [
    "fnp_df = pd.concat((pd.DataFrame(b) for b in fnp_batches), ignore_index=True)"
   ]
  },
  {
   "cell_type": "code",
   "execution_count": null,
   "metadata": {},
   "outputs": [],
   "source": [
    "fnp_df.dtypes"
   ]
  },
  {
   "cell_type": "code",
   "execution_count": null,
   "metadata": {},
   "outputs": [],
   "source": [
    "size_of(fnp_df)"
   ]
  },
  {
   "cell_type": "code",
   "execution_count": null,
   "metadata": {},
   "outputs": [],
   "source": [
    "fnp_batch['event_date'].dtype, fnp_batch['event_date'][0]"
   ]
  },
  {
   "cell_type": "markdown",
   "metadata": {},
   "source": [
    "## Tuning date\n",
    "\n",
    "According to the cassandra driver documentation:\n",
    "```python\n",
    "# Values of the 'date'` type are encoded as 32-bit unsigned integers\n",
    "# representing a number of days with epoch (January 1st, 1970) at the center of the\n",
    "# range (2^31).\n",
    "\n",
    "```"
   ]
  },
  {
   "cell_type": "code",
   "execution_count": null,
   "metadata": {},
   "outputs": [],
   "source": [
    "numpy_parser._cqltype_to_numpy.update({\n",
    "  cassandra.cqltypes.SimpleDateType: np.dtype('>u4'),\n",
    "})"
   ]
  },
  {
   "cell_type": "code",
   "execution_count": null,
   "metadata": {},
   "outputs": [],
   "source": [
    "with cluster.connect('fastsandra') as session:\n",
    "    session.row_factory = tuple_factory\n",
    "    session.client_protocol_handler = NumpyProtocolHandler\n",
    "    results = session.execute(\n",
    "        \"SELECT * from fastsandra.time_series where event_date = '2019-10-01'\"\n",
    "    )\n",
    "    fnp_batches2 = [b for b in results]"
   ]
  },
  {
   "cell_type": "code",
   "execution_count": null,
   "metadata": {},
   "outputs": [],
   "source": [
    "fnp_batch2 = fnp_batches2[0]\n",
    "fnp_batch2['event_date']"
   ]
  },
  {
   "cell_type": "code",
   "execution_count": null,
   "metadata": {},
   "outputs": [],
   "source": [
    "(\n",
    "    fnp_batch2['event_date'] - cassandra.cqltypes.SimpleDateType.EPOCH_OFFSET_DAYS\n",
    ").astype('datetime64[D]')                           "
   ]
  },
  {
   "cell_type": "code",
   "execution_count": null,
   "metadata": {},
   "outputs": [],
   "source": [
    "def result_set_to_df(results: cassandra.cluster.ResultSet) -> pd.DataFrame:\n",
    "    df = pd.DataFrame(pd.concat((pd.DataFrame(r) for r in  results), ignore_index=True))\n",
    "    for name, dtype in zip(results.column_names, results.column_types):\n",
    "        if dtype == cassandra.cqltypes.SimpleDateType:\n",
    "            df[name] = (df[name] - cassandra.cqltypes.SimpleDateType.EPOCH_OFFSET_DAYS).astype('datetime64[D]')\n",
    "    return df"
   ]
  },
  {
   "cell_type": "code",
   "execution_count": null,
   "metadata": {},
   "outputs": [],
   "source": [
    "with cluster.connect('fastsandra') as session:\n",
    "    session.row_factory = tuple_factory  #required for Numpy results\n",
    "    session.client_protocol_handler = NumpyProtocolHandler  # for a dict of NumPy arrays as result\n",
    "\n",
    "    results = session.execute(\n",
    "        \"SELECT * FROM fastsandra.time_series WHERE event_date = '2019-10-01'\"\n",
    "    )\n",
    "    fnp_df2 = result_set_to_df(results)\n",
    "size_of(fnp_df2)"
   ]
  },
  {
   "cell_type": "code",
   "execution_count": null,
   "metadata": {},
   "outputs": [],
   "source": [
    "fnp_df2.dtypes"
   ]
  },
  {
   "cell_type": "markdown",
   "metadata": {},
   "source": [
    "# Benchmark"
   ]
  },
  {
   "cell_type": "code",
   "execution_count": null,
   "metadata": {},
   "outputs": [],
   "source": [
    "def test_default():\n",
    "    with cluster.connect('fastsandra') as session:\n",
    "        results = session.execute(\n",
    "            \"SELECT * from fastsandra.time_series where event_date = '2019-10-01'\"\n",
    "        )\n",
    "        return (\n",
    "            pd.DataFrame((r for r in results))\n",
    "            .assign(\n",
    "                event_date=lambda x: x['event_date'].apply(Date.date).astype('datetime64[D]'),\n",
    "                instrument_id=lambda x: x['instrument_id'].astype('int32') \n",
    "        ))\n",
    "test_default().dtypes"
   ]
  },
  {
   "cell_type": "code",
   "execution_count": null,
   "metadata": {},
   "outputs": [],
   "source": [
    "def test_with_numpy_handler():\n",
    "    numpy_parser._cqltype_to_numpy = cqltype_to_numpy_copy.copy()\n",
    "    with cluster.connect('fastsandra') as session:\n",
    "        session.row_factory = tuple_factory  #required for Numpy results\n",
    "        session.client_protocol_handler = NumpyProtocolHandler  # for a dict of NumPy arrays as result\n",
    "\n",
    "        results = session.execute(\n",
    "            \"SELECT * from fastsandra.time_series where event_date = '2019-10-01'\"\n",
    "        )\n",
    "        return (\n",
    "            pd.concat((pd.DataFrame(r) for r in results), ignore_index=True)\n",
    "            .assign(event_date=lambda x: x['event_date'].apply(Date.date).astype('datetime64[D]'))\n",
    "        )\n",
    "    \n",
    "test_with_numpy_handler().dtypes"
   ]
  },
  {
   "cell_type": "code",
   "execution_count": null,
   "metadata": {},
   "outputs": [],
   "source": [
    "def test_with_patched_numpy_handler():\n",
    "    numpy_parser._cqltype_to_numpy.update({\n",
    "        cassandra.cqltypes.DateType: np.dtype('datetime64[ms]'),\n",
    "        cassandra.cqltypes.TimestampType: np.dtype('datetime64[ms]'),\n",
    "        cassandra.cqltypes.SimpleDateType: np.dtype('>u4'),\n",
    "    })\n",
    "    with cluster.connect('fastsandra') as session:\n",
    "        session.row_factory = tuple_factory  #required for Numpy results\n",
    "        session.client_protocol_handler = NumpyProtocolHandler  # for a dict of NumPy arrays as result\n",
    "\n",
    "        results = session.execute(\n",
    "            \"SELECT * from fastsandra.time_series where event_date = '2019-10-01'\"\n",
    "        )\n",
    "        return result_set_to_df(results)\n",
    "    \n",
    "test_with_patched_numpy_handler().dtypes"
   ]
  },
  {
   "cell_type": "code",
   "execution_count": null,
   "metadata": {},
   "outputs": [],
   "source": [
    "%timeit test_default()"
   ]
  },
  {
   "cell_type": "code",
   "execution_count": null,
   "metadata": {},
   "outputs": [],
   "source": [
    "%timeit test_with_numpy_handler()"
   ]
  },
  {
   "cell_type": "code",
   "execution_count": null,
   "metadata": {},
   "outputs": [],
   "source": [
    "%timeit test_with_patched_numpy_handler()"
   ]
  },
  {
   "cell_type": "code",
   "execution_count": null,
   "metadata": {},
   "outputs": [],
   "source": [
    "%timeit df.assign(event_date=lambda x: x['event_date'].apply(Date.date).astype('datetime64[D]'))"
   ]
  }
 ],
 "metadata": {
  "kernelspec": {
   "display_name": "Python 3",
   "language": "python",
   "name": "python3"
  },
  "language_info": {
   "codemirror_mode": {
    "name": "ipython",
    "version": 3
   },
   "file_extension": ".py",
   "mimetype": "text/x-python",
   "name": "python",
   "nbconvert_exporter": "python",
   "pygments_lexer": "ipython3",
   "version": "3.7.5"
  }
 },
 "nbformat": 4,
 "nbformat_minor": 2
}
